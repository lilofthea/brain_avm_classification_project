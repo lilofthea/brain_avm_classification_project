{
 "cells": [
  {
   "cell_type": "code",
   "execution_count": 2,
   "id": "54170ca3-1c68-451b-a1aa-5cfc65b75e0e",
   "metadata": {
    "tags": []
   },
   "outputs": [],
   "source": [
    "import tensorflow as tf\n",
    "import tensorflow.keras as keras\n",
    "from keras.applications.vgg16 import VGG16\n",
    "from keras.applications.vgg19 import VGG19\n",
    "from keras.applications.resnet_v2 import ResNet50V2\n",
    "from keras.applications.mobilenet_v2  import MobileNetV2\n",
    "from keras.applications.mobilenet import MobileNet\n",
    "from keras.applications.efficientnet import EfficientNetB0\n",
    "from keras import Model"
   ]
  },
  {
   "cell_type": "code",
   "execution_count": 3,
   "id": "ed4ff9ca-72f1-47cc-b5b3-46fb13ce495f",
   "metadata": {
    "tags": []
   },
   "outputs": [],
   "source": [
    "metrics = [keras.metrics.Accuracy(),keras.metrics.Precision(),keras.metrics.Recall()] # to use each model"
   ]
  },
  {
   "cell_type": "code",
   "execution_count": 4,
   "id": "cd4a9aa8-c08d-4dc1-b33c-5b687b562d23",
   "metadata": {
    "tags": []
   },
   "outputs": [],
   "source": [
    "input_shape= (224,224,3)"
   ]
  },
  {
   "cell_type": "markdown",
   "id": "9938de58-cda7-4f4c-996f-36cdb4c36375",
   "metadata": {},
   "source": [
    "VGG16"
   ]
  },
  {
   "cell_type": "code",
   "execution_count": 5,
   "id": "2c58ce35-bca3-45f2-95d1-1a91150409ac",
   "metadata": {
    "tags": []
   },
   "outputs": [],
   "source": [
    "#vgg16 base model\n",
    "base_model_vgg16 = VGG16(\n",
    "    input_shape=input_shape,\n",
    "    weights='imagenet',\n",
    "    include_top=False)"
   ]
  },
  {
   "cell_type": "code",
   "execution_count": 6,
   "id": "024d8a9c-1762-4c1b-baa0-0a512471ca18",
   "metadata": {
    "tags": []
   },
   "outputs": [],
   "source": [
    "#making layers not trainable for vgg16's pretrained weights not to change, so we can use pre-trained model\n",
    "for layer in base_model_vgg16.layers:\n",
    "    layer.trainable = False"
   ]
  },
  {
   "cell_type": "code",
   "execution_count": 7,
   "id": "d9b5324c-c55d-41e6-9fe7-08fa05b18b4b",
   "metadata": {
    "tags": []
   },
   "outputs": [],
   "source": [
    "#adding layers on top of pre-trained model\n",
    "input_layer = keras.Input(shape=input_shape)\n",
    "\n",
    "x = base_model_vgg16(input_layer, training=False)\n",
    "x = keras.layers.GlobalAveragePooling2D()(x)\n",
    "x = tf.keras.layers.Dropout(0.2)(x)\n",
    "\n",
    "output_layer = keras.layers.Dense(1, activation=\"sigmoid\")(x)\n",
    "\n",
    "model_vgg16 = Model(inputs=input_layer, outputs=output_layer)"
   ]
  },
  {
   "cell_type": "code",
   "execution_count": 8,
   "id": "3cd3d7ad-25bd-4c77-a80f-7c5b4722ecbf",
   "metadata": {
    "tags": []
   },
   "outputs": [],
   "source": [
    "#model compile\n",
    "model_vgg16.compile(optimizer=keras.optimizers.Adam(),\n",
    "                    loss=keras.losses.BinaryCrossentropy(),\n",
    "                    metrics= metrics)"
   ]
  },
  {
   "cell_type": "markdown",
   "id": "7ace1b02-efeb-4f9a-8c6e-e2c1263f9038",
   "metadata": {},
   "source": [
    "VGG19"
   ]
  },
  {
   "cell_type": "code",
   "execution_count": 9,
   "id": "aab58c53-0e45-430c-ac2f-23041d123c6e",
   "metadata": {
    "tags": []
   },
   "outputs": [],
   "source": [
    "#vgg19 base model\n",
    "base_model_vgg19 = VGG19(\n",
    "    input_shape=input_shape,\n",
    "    weights='imagenet',\n",
    "    include_top=False)"
   ]
  },
  {
   "cell_type": "code",
   "execution_count": 10,
   "id": "cd1469e4-acc1-45ea-87ca-9f6f9de482c7",
   "metadata": {
    "tags": []
   },
   "outputs": [],
   "source": [
    "#making layers not trainable, we need pretrained weights not to change\n",
    "for layer in base_model_vgg16.layers:\n",
    "    layer.trainable = False"
   ]
  },
  {
   "cell_type": "code",
   "execution_count": 11,
   "id": "6b9ca827-0db9-44ed-99ae-6b783e9f9693",
   "metadata": {
    "tags": []
   },
   "outputs": [],
   "source": [
    "#adding layers on top of pre-trained model\n",
    "input_layer = keras.Input(shape=input_shape)\n",
    "\n",
    "x = base_model_vgg19(input_layer, training=False)\n",
    "x = keras.layers.GlobalAveragePooling2D()(x)\n",
    "x = tf.keras.layers.Dropout(0.2)(x)\n",
    "\n",
    "output_layer = keras.layers.Dense(1, activation=\"sigmoid\")(x)\n",
    "\n",
    "model_vgg19 = Model(inputs=input_layer, outputs=output_layer)"
   ]
  },
  {
   "cell_type": "code",
   "execution_count": 12,
   "id": "8ece4785-5bb1-4c00-b536-2975b5c59ef3",
   "metadata": {
    "tags": []
   },
   "outputs": [],
   "source": [
    "#model compile\n",
    "model_vgg19.compile(optimizer=keras.optimizers.Adam(),\n",
    "                    loss=keras.losses.BinaryCrossentropy(),\n",
    "                    metrics= metrics)"
   ]
  },
  {
   "cell_type": "markdown",
   "id": "9e258356-5233-42ac-a3d8-61073fc14e01",
   "metadata": {},
   "source": [
    "RESNET50v2"
   ]
  },
  {
   "cell_type": "code",
   "execution_count": 13,
   "id": "ef333488-b1b9-4d25-afd9-ec7efa8f8d7a",
   "metadata": {
    "tags": []
   },
   "outputs": [],
   "source": [
    "#resnet50v2 base model\n",
    "base_model_resnet50v2 = ResNet50V2(\n",
    "    input_shape=input_shape,\n",
    "    weights='imagenet',\n",
    "    include_top=False)"
   ]
  },
  {
   "cell_type": "code",
   "execution_count": 14,
   "id": "eecabc23-5443-4cbc-ba58-195872c4f5cc",
   "metadata": {
    "tags": []
   },
   "outputs": [],
   "source": [
    "#making layers not trainable, we need pretrained weights not to change\n",
    "for layer in base_model_resnet50v2.layers:\n",
    "    layer.trainable = False"
   ]
  },
  {
   "cell_type": "code",
   "execution_count": 15,
   "id": "98fc1690-c978-4543-8def-450cf0d9f66d",
   "metadata": {
    "tags": []
   },
   "outputs": [],
   "source": [
    "#adding layers on top of pre-trained model\n",
    "input_layer = keras.Input(shape=input_shape)\n",
    "\n",
    "x = base_model_resnet50v2(input_layer, training=False)\n",
    "x = keras.layers.GlobalAveragePooling2D()(x)\n",
    "x = tf.keras.layers.Dropout(0.2)(x)\n",
    "\n",
    "output_layer = keras.layers.Dense(1, activation=\"sigmoid\")(x)\n",
    "\n",
    "model_rn50v2 = Model(inputs=input_layer, outputs=output_layer)"
   ]
  },
  {
   "cell_type": "code",
   "execution_count": 16,
   "id": "fd16ac2d-cd61-4f9c-8580-c8f37c8774c7",
   "metadata": {
    "tags": []
   },
   "outputs": [],
   "source": [
    "#model compile\n",
    "model_rn50v2.compile(optimizer=keras.optimizers.Adam(),\n",
    "                    loss=keras.losses.BinaryCrossentropy(),\n",
    "                    metrics= metrics)"
   ]
  },
  {
   "cell_type": "markdown",
   "id": "60c73f2f-1e75-4bf5-9724-1c2facd43742",
   "metadata": {},
   "source": [
    "MOBILENETv2"
   ]
  },
  {
   "cell_type": "code",
   "execution_count": 17,
   "id": "6bcd53fa-49c6-4541-956c-75fabb615a5a",
   "metadata": {
    "tags": []
   },
   "outputs": [],
   "source": [
    "#mobilenetv2 base model\n",
    "base_model_mbnv2 = MobileNetV2(\n",
    "    input_shape=input_shape,\n",
    "    weights='imagenet',\n",
    "    include_top=False)"
   ]
  },
  {
   "cell_type": "code",
   "execution_count": 18,
   "id": "5421c7e8-80ee-4a20-841f-b3034d410f51",
   "metadata": {
    "tags": []
   },
   "outputs": [],
   "source": [
    "#making layers not trainable, we need pretrained weights not to change\n",
    "for layer in base_model_mbnv2.layers:\n",
    "    layer.trainable = False"
   ]
  },
  {
   "cell_type": "code",
   "execution_count": 19,
   "id": "67f565ba-46a1-484a-8889-78b0f90560c5",
   "metadata": {
    "tags": []
   },
   "outputs": [],
   "source": [
    "#adding layers on top of pre-trained model\n",
    "input_layer = keras.Input(shape=input_shape)\n",
    "\n",
    "x = base_model_mbnv2(input_layer, training=False)\n",
    "x = keras.layers.GlobalAveragePooling2D()(x)\n",
    "x = tf.keras.layers.Dropout(0.2)(x)\n",
    "\n",
    "output_layer = keras.layers.Dense(1, activation=\"sigmoid\")(x)\n",
    "\n",
    "model_mbnv2 = Model(inputs=input_layer, outputs=output_layer)"
   ]
  },
  {
   "cell_type": "code",
   "execution_count": 20,
   "id": "e0c94d1e-e5d6-4167-bd84-1b4a62d87557",
   "metadata": {
    "tags": []
   },
   "outputs": [],
   "source": [
    "#model compile\n",
    "model_mbnv2.compile(optimizer=keras.optimizers.Adam(),\n",
    "                    loss=keras.losses.BinaryCrossentropy(),\n",
    "                    metrics= metrics)"
   ]
  },
  {
   "cell_type": "markdown",
   "id": "ebdce3e8-d729-41d8-82a9-79f56a69d216",
   "metadata": {},
   "source": [
    "EFFICIENTNETB0"
   ]
  },
  {
   "cell_type": "code",
   "execution_count": 21,
   "id": "da4c3eda-4454-46aa-8cf4-4b2b7ef633fb",
   "metadata": {
    "tags": []
   },
   "outputs": [],
   "source": [
    "#mobilenetv2 base model\n",
    "base_model_efnb0 = EfficientNetB0(\n",
    "    input_shape=input_shape,\n",
    "    weights='imagenet',\n",
    "    include_top=False)"
   ]
  },
  {
   "cell_type": "code",
   "execution_count": 22,
   "id": "d61f0227-07be-46ca-a516-99dbd9fa4246",
   "metadata": {
    "tags": []
   },
   "outputs": [],
   "source": [
    "#making layers not trainable, we need pretrained weights not to change\n",
    "for layer in base_model_efnb0.layers:\n",
    "    layer.trainable = False"
   ]
  },
  {
   "cell_type": "code",
   "execution_count": 23,
   "id": "f2c49704-4025-4699-b1cd-fb3e18b35687",
   "metadata": {
    "tags": []
   },
   "outputs": [],
   "source": [
    "#adding layers on top of pre-trained model\n",
    "input_layer = keras.Input(shape=input_shape)\n",
    "\n",
    "x = base_model_efnb0(input_layer, training=False)\n",
    "x = keras.layers.GlobalAveragePooling2D()(x)\n",
    "x = tf.keras.layers.Dropout(0.2)(x)\n",
    "\n",
    "output_layer = keras.layers.Dense(1, activation=\"sigmoid\")(x)\n",
    "\n",
    "model_efnb0 = Model(inputs=input_layer, outputs=output_layer)"
   ]
  },
  {
   "cell_type": "code",
   "execution_count": 24,
   "id": "dfe12451-5025-45a0-b537-e703271ca01d",
   "metadata": {
    "tags": []
   },
   "outputs": [],
   "source": [
    "#model compile\n",
    "model_efnb0.compile(optimizer=keras.optimizers.Adam(),\n",
    "                    loss=keras.losses.BinaryCrossentropy(),\n",
    "                    metrics= metrics)"
   ]
  },
  {
   "cell_type": "markdown",
   "id": "840dd0f9-95a2-4347-b200-be3f39e0da38",
   "metadata": {},
   "source": [
    "MODEL TRAININGS W 10 EPOCHS"
   ]
  },
  {
   "cell_type": "code",
   "execution_count": null,
   "id": "45ef9b7d-b699-47c9-9c1d-350d185e7d2c",
   "metadata": {},
   "outputs": [],
   "source": [
    "hist_vgg16 = model_vgg16.fit(train, epochs=10, validation_data=val)"
   ]
  },
  {
   "cell_type": "code",
   "execution_count": null,
   "id": "7a232316-3656-4ac0-abe4-fa8bbfc74261",
   "metadata": {},
   "outputs": [],
   "source": [
    "hist_vgg19 = model_vgg19.fit(train, epochs=10, validation_data=val)"
   ]
  },
  {
   "cell_type": "code",
   "execution_count": null,
   "id": "f5f4be9e-8900-4196-8afa-78b200d8c88e",
   "metadata": {},
   "outputs": [],
   "source": [
    "hist_rn50v2 = model_rn50v2.fit(train, epochs=10, validation_data=val)"
   ]
  },
  {
   "cell_type": "code",
   "execution_count": null,
   "id": "ae2206f9-c272-4260-a493-ddf166d76962",
   "metadata": {},
   "outputs": [],
   "source": [
    "hist_mbnv2 = model_mbnv2.fit(train, epochs=10, validation_data=val)"
   ]
  },
  {
   "cell_type": "code",
   "execution_count": null,
   "id": "31c22f50-30a3-4f98-ba02-7d8fd67ffebf",
   "metadata": {},
   "outputs": [],
   "source": [
    "hist_efnb0 = model_efnb0.fit(train, epochs=10, validation_data=val)"
   ]
  },
  {
   "cell_type": "code",
   "execution_count": null,
   "id": "86225387-eabf-42a0-af96-c333540e6f9b",
   "metadata": {},
   "outputs": [],
   "source": [
    "acc = hist_vgg16.history['accuracy']\n",
    "val_acc = hist_vgg16.history['val_accuracy']\n",
    "\n",
    "loss = hist_vgg16.history['loss']\n",
    "val_loss = hist_vgg16.history['val_loss']\n",
    "\n",
    "print(\"VGG16\")\n",
    "print(f\"acc: {acc}\\tval acc: {val_acc}\")\n",
    "print(f\"loss: {loss}\\tval loss: {val_loss}\")"
   ]
  },
  {
   "cell_type": "code",
   "execution_count": null,
   "id": "a06879d1-c4f1-44de-84ff-b13fe774f25a",
   "metadata": {},
   "outputs": [],
   "source": [
    "acc = hist_vgg19.history['accuracy']\n",
    "val_acc = hist_vgg19.history['val_accuracy']\n",
    "\n",
    "loss = hist_vgg19.history['loss']\n",
    "val_loss = hist_vgg19.history['val_loss']\n",
    "\n",
    "print(\"VGG19\")\n",
    "print(f\"acc: {acc}\\tval acc: {val_acc}\")\n",
    "print(f\"loss: {loss}\\tval loss: {val_loss}\")"
   ]
  },
  {
   "cell_type": "code",
   "execution_count": null,
   "id": "d9b3c9d5-483c-4d0b-a77c-897bb48e2a45",
   "metadata": {},
   "outputs": [],
   "source": [
    "acc = hist_rn50v2.history['accuracy']\n",
    "val_acc = hist_vgg19.history['val_accuracy']\n",
    "\n",
    "loss = hist_rn50v2.history['loss']\n",
    "val_loss = hist_rn50v2.history['val_loss']\n",
    "\n",
    "print(\"RESNET50V2\")\n",
    "print(f\"acc: {acc}\\tval acc: {val_acc}\")\n",
    "print(f\"loss: {loss}\\tval loss: {val_loss}\")"
   ]
  },
  {
   "cell_type": "code",
   "execution_count": null,
   "id": "93515e12-bf1f-4087-850e-7ed5be48d3b9",
   "metadata": {},
   "outputs": [],
   "source": [
    "acc = hist_mbnv2.history['accuracy']\n",
    "val_acc = hist_mbnv2.history['val_accuracy']\n",
    "\n",
    "loss = hist_mbnv2.history['loss']\n",
    "val_loss = hist_mbnv2.history['val_loss']\n",
    "\n",
    "print(\"MOBILENETV2\")\n",
    "print(f\"acc: {acc}\\tval acc: {val_acc}\")\n",
    "print(f\"loss: {loss}\\tval loss: {val_loss}\")"
   ]
  },
  {
   "cell_type": "code",
   "execution_count": null,
   "id": "5f4bf66d-b891-4a65-94df-d286fe88d426",
   "metadata": {},
   "outputs": [],
   "source": [
    "acc = hist_efnb0.history['accuracy']\n",
    "val_acc = hist_efnb0.history['val_accuracy']\n",
    "\n",
    "loss = hist_efnb0.history['loss']\n",
    "val_loss = hist_efnb0.history['val_loss']\n",
    "\n",
    "print(\"EFFICIENTNETB0\")\n",
    "print(f\"acc: {acc}\\tval acc: {val_acc}\")\n",
    "print(f\"loss: {loss}\\tval loss: {val_loss}\")"
   ]
  },
  {
   "cell_type": "markdown",
   "id": "31638828-d3f8-47f5-9f25-8c4dae0d47bf",
   "metadata": {},
   "source": [
    "TRAINING W 100 EPOCHS "
   ]
  },
  {
   "cell_type": "code",
   "execution_count": null,
   "id": "793f2f92-a8bb-4895-903b-fb266615ccb5",
   "metadata": {},
   "outputs": [],
   "source": [
    "hist_vgg16 = model_vgg16.fit(train, epochs=100, validation_data=val)"
   ]
  },
  {
   "cell_type": "code",
   "execution_count": null,
   "id": "e0e84f2a-12b5-4a40-ba71-fa49bab53750",
   "metadata": {},
   "outputs": [],
   "source": [
    "model_vgg16.save('vgg16.h5')"
   ]
  },
  {
   "cell_type": "code",
   "execution_count": null,
   "id": "72f13be2-cd38-4839-aa95-a4859e2e0a27",
   "metadata": {},
   "outputs": [],
   "source": [
    "hist_vgg19 = model_vgg19.fit(train, epochs=100, validation_data=val)"
   ]
  },
  {
   "cell_type": "code",
   "execution_count": null,
   "id": "5d9b098d-575e-4444-9871-5aaec7ab2839",
   "metadata": {},
   "outputs": [],
   "source": [
    "model_vgg19.save('vgg19.h5')"
   ]
  },
  {
   "cell_type": "code",
   "execution_count": null,
   "id": "e9c157ad-2d9d-4b81-a79f-72ff53c2197e",
   "metadata": {},
   "outputs": [],
   "source": [
    "hist_rn50v2 = model_rn50v2.fit(train, epochs=100, validation_data=val)"
   ]
  },
  {
   "cell_type": "code",
   "execution_count": null,
   "id": "51f3faad-1365-4e01-9a32-b585e1dc9b81",
   "metadata": {},
   "outputs": [],
   "source": [
    "model_rn50v2.save('rn50v2.h5')"
   ]
  },
  {
   "cell_type": "code",
   "execution_count": null,
   "id": "a7c37c99-9da8-4b34-87da-814e695026c4",
   "metadata": {},
   "outputs": [],
   "source": [
    "hist_mbnv2 = model_mbnv2.fit(train, epochs=100, validation_data=val)"
   ]
  },
  {
   "cell_type": "code",
   "execution_count": null,
   "id": "aaa45211-0aa3-431b-b101-9f3b5772cb8d",
   "metadata": {},
   "outputs": [],
   "source": [
    "model_mbnv2.save('mbnv2.h5')"
   ]
  },
  {
   "cell_type": "code",
   "execution_count": null,
   "id": "108782f7-783b-472a-b05e-ed2d438ef612",
   "metadata": {},
   "outputs": [],
   "source": [
    "hist_efnb0 = model_efnb0.fit(train, epochs=100, validation_data=val)"
   ]
  },
  {
   "cell_type": "code",
   "execution_count": null,
   "id": "088c8659-ba6d-4724-bdfb-a4e515db98a0",
   "metadata": {},
   "outputs": [],
   "source": [
    "model_efnb0.save('efnb0.h5')"
   ]
  }
 ],
 "metadata": {
  "kernelspec": {
   "display_name": "avmproject_env",
   "language": "python",
   "name": "avmproject_env"
  },
  "language_info": {
   "codemirror_mode": {
    "name": "ipython",
    "version": 3
   },
   "file_extension": ".py",
   "mimetype": "text/x-python",
   "name": "python",
   "nbconvert_exporter": "python",
   "pygments_lexer": "ipython3",
   "version": "3.11.5"
  }
 },
 "nbformat": 4,
 "nbformat_minor": 5
}
