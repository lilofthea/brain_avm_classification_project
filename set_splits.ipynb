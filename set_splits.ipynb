{
 "cells": [
  {
   "cell_type": "code",
   "execution_count": 7,
   "id": "618b04bf-5581-4276-932e-71ef2b59d34c",
   "metadata": {},
   "outputs": [],
   "source": [
    "import os\n",
    "import shutil\n",
    "import cv2 as cv\n",
    "import numpy as np\n",
    "import matplotlib.pyplot as plt\n",
    "from sklearn.model_selection import train_test_split\n",
    "import tensorflow as tf"
   ]
  },
  {
   "cell_type": "code",
   "execution_count": 8,
   "id": "3a287484-28cc-452b-91ca-e48593065194",
   "metadata": {},
   "outputs": [],
   "source": [
    "# Paths to datasets\n",
    "\n",
    "train_dir = \"C:/Users/aymin/Desktop/avm_project/data/train\"\n",
    "val_dir = \"C:/Users/aymin/Desktop/avm_project/data/val\"\n",
    "test_dir = \"C:/Users/aymin/Desktop/avm_project/data/test\"\n",
    "avm_dir = \"C:/Users/aymin/Desktop/avm_project/avm_patients/avm\"\n",
    "non_avm_dir = \"C:/Users/aymin/Desktop/avm_project/avm_patients/non_avm\"\n",
    "aug_train_dir = \"C:/Users/aymin/Desktop/avm_project/data/aug_train\""
   ]
  },
  {
   "cell_type": "code",
   "execution_count": 9,
   "id": "ee7adbc5-fb9a-4ec1-9f7b-333823e7db6b",
   "metadata": {},
   "outputs": [
    {
     "name": "stdout",
     "output_type": "stream",
     "text": [
      "Training set size: 4678\n",
      "Validation set size: 1338\n",
      "Test set size: 668\n",
      "4678 files copied to C:/Users/aymin/Desktop/avm_project/data/train directory\n",
      "1338 files copied to C:/Users/aymin/Desktop/avm_project/data/val directory\n",
      "668 files copied to C:/Users/aymin/Desktop/avm_project/data/test directory\n"
     ]
    }
   ],
   "source": [
    "# List all files in the directories\n",
    "yes_images = [os.path.join(avm_dir, fname) for fname in os.listdir(avm_dir) if fname.endswith('.jpg')]\n",
    "no_images = [os.path.join(non_avm_dir, fname) for fname in os.listdir(non_avm_dir) if fname.endswith('.jpg')]\n",
    "\n",
    "# Combine and create labels\n",
    "all_images = yes_images + no_images\n",
    "labels = [1] * len(yes_images) + [0] * len(no_images)\n",
    "\n",
    "# Split the dataset into training (70%) and temp (30%)\n",
    "train_images, temp_images, train_labels, temp_labels = train_test_split(all_images, labels, test_size=0.3,shuffle=True, stratify=labels, random_state=40)\n",
    "\n",
    "# Split the temp set into validation (20% of total) and test (10% of total)\n",
    "val_images, test_images, val_labels, test_labels = train_test_split(temp_images, temp_labels,shuffle=True, test_size=0.333, stratify=temp_labels, random_state=40)\n",
    "\n",
    "# The sizes of the splits\n",
    "print(f'Training set size: {len(train_images)}')\n",
    "print(f'Validation set size: {len(val_images)}')\n",
    "print(f'Test set size: {len(test_images)}')\n",
    "\n",
    "\n",
    "# Ensure the directories exist\n",
    "os.makedirs(train_dir, exist_ok=True)\n",
    "os.makedirs(val_dir, exist_ok=True)\n",
    "os.makedirs(test_dir, exist_ok=True)\n",
    "\n",
    "for label in ['yes', 'no']:\n",
    "    os.makedirs(os.path.join(train_dir, label), exist_ok=True)\n",
    "    os.makedirs(os.path.join(val_dir, label), exist_ok=True)\n",
    "    os.makedirs(os.path.join(test_dir, label), exist_ok=True)\n",
    "\n",
    "# Copy the files to the directories\n",
    "def copy_files(files,directory):\n",
    "    for file in files:\n",
    "        if file in yes_images:\n",
    "            dest_subdir = os.path.join(directory, 'yes')\n",
    "        else:\n",
    "            dest_subdir = os.path.join(directory, 'no')\n",
    "            \n",
    "        \n",
    "        shutil.copy(file, dest_subdir)\n",
    "    print(f'{len(files)} files copied to {directory} directory')\n",
    "\n",
    "copy_files(train_images, train_dir)\n",
    "copy_files(val_images, val_dir)\n",
    "copy_files(test_images, test_dir)\n"
   ]
  }
 ],
 "metadata": {
  "kernelspec": {
   "display_name": "Python 3 (ipykernel)",
   "language": "python",
   "name": "python3"
  },
  "language_info": {
   "codemirror_mode": {
    "name": "ipython",
    "version": 3
   },
   "file_extension": ".py",
   "mimetype": "text/x-python",
   "name": "python",
   "nbconvert_exporter": "python",
   "pygments_lexer": "ipython3",
   "version": "3.12.4"
  }
 },
 "nbformat": 4,
 "nbformat_minor": 5
}
