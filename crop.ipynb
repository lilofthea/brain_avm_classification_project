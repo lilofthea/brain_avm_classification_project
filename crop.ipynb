{
 "cells": [
  {
   "cell_type": "code",
   "execution_count": null,
   "metadata": {},
   "outputs": [],
   "source": [
    "import cv2\n",
    "import matplotlib.pyplot as plt\n",
    "import os\n",
    "\n",
    "#Paths\n",
    "source_directory_yes = 'C:/Users/aymin/Desktop/avm_project/data/train/yes'\n",
    "source_directory_no = 'C:/Users/aymin/Desktop/avm_project/data/train/no'\n",
    "\n",
    "cropped_image_path_yes = 'C:/Users/aymin/Desktop/avm_project/data/cropped_images/yes'  \n",
    "cropped_image_path_no = 'C:/Users/aymin/Desktop/avm_project/data/cropped_images/no'\n",
    "\n",
    "# Function to crop the image using fixed coordinates\n",
    "def crop_fixed_area(image, x_start, y_start, x_end, y_end):\n",
    "    # Crop the image using the specified coordinates\n",
    "    cropped_image = image[y_start:y_end, x_start:x_end]\n",
    "    return cropped_image\n",
    "\n",
    "# Fixed coordinates \n",
    "x_start, y_start, x_end, y_end = 16, 16, 240, 240  \n",
    "\n",
    "number_of_cropped_images = 0\n",
    "\n",
    "os.makedirs(cropped_image_path_yes, exist_ok=True)\n",
    "os.makedirs(cropped_image_path_no, exist_ok=True)\n",
    "\n",
    "# Crop the original image for yes\n",
    "for filename in os.listdir(source_directory_yes):\n",
    "\n",
    "    original_image = cv2.imread(os.path.join(source_directory_yes, filename))\n",
    "    cropped_original_image = crop_fixed_area(original_image, x_start, y_start, x_end, y_end)\n",
    "\n",
    "    cv2.imwrite(os.path.join(cropped_image_path_yes, filename), cropped_original_image)\n",
    "\n",
    "    number_of_cropped_images += 1\n",
    "\n",
    "    print(f'{filename} has been cropped and saved as {filename} to {cropped_image_path_yes} directory, number of cropped images: {number_of_cropped_images}')\n",
    "\n",
    "# Crop the original image for no\n",
    "for filename in os.listdir(source_directory_no): \n",
    "\n",
    "    original_image = cv2.imread(os.path.join(source_directory_no, filename))\n",
    "    cropped_original_image = crop_fixed_area(original_image, x_start, y_start, x_end, y_end)\n",
    "\n",
    "    cv2.imwrite(os.path.join(cropped_image_path_no, filename), cropped_original_image)\n",
    "\n",
    "    number_of_cropped_images += 1\n",
    "    \n",
    "    print(f'{filename} has been cropped and saved as {filename} to {cropped_image_path_no} directory, number of cropped images: {number_of_cropped_images}')\n"
   ]
  }
 ],
 "metadata": {
  "kernelspec": {
   "display_name": "Python 3",
   "language": "python",
   "name": "python3"
  },
  "language_info": {
   "codemirror_mode": {
    "name": "ipython",
    "version": 3
   },
   "file_extension": ".py",
   "mimetype": "text/x-python",
   "name": "python",
   "nbconvert_exporter": "python",
   "pygments_lexer": "ipython3",
   "version": "3.12.4"
  }
 },
 "nbformat": 4,
 "nbformat_minor": 2
}
