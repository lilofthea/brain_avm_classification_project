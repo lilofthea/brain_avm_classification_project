{
 "cells": [
  {
   "cell_type": "code",
   "execution_count": 1,
   "metadata": {},
   "outputs": [],
   "source": [
    "import os\n",
    "import tensorflow as tf\n",
    "from tensorflow import keras\n",
    "\n",
    "import cv2 as cv\n",
    "import numpy as np\n",
    "import matplotlib.pyplot as plt"
   ]
  },
  {
   "cell_type": "code",
   "execution_count": null,
   "metadata": {},
   "outputs": [],
   "source": [
    "def augment_data(train_dir, n_generated_samples, save_to_dir):\n",
    "    train_datagen = keras.preprocessing.image.ImageDataGenerator(\n",
    "        rescale=1./255,  # normalize pixel values to [0,1]\n",
    "        rotation_range=15, \n",
    "        shear_range=0.1,\n",
    "        brightness_range=[1.0,1.5],\n",
    "        horizontal_flip=True,\n",
    "        vertical_flip=True\n",
    "    )\n",
    "    for file_name in os.listdir(train_dir):\n",
    "        cv_image = cv.imread(train_dir + \"/\" + file_name)\n",
    "        \n",
    "        image = cv_image.reshape((1,) + cv_image.shape)\n",
    "\n",
    "        save_prefix = 'aug_' + file_name[:-4]\n",
    "        i = 0\n",
    "        for batch in train_datagen.flow(x=image, batch_size=1, save_to_dir=save_to_dir, save_prefix=save_prefix, save_format='jpg'):\n",
    "            i += 1\n",
    "            if i > n_generated_samples:\n",
    "                break\n",
    "    \n",
    "\n",
    "train_dir = \"C:/Users/aymin/Desktop/avm_project/data/train\"\n",
    "yes_dir = train_dir + \"/yes\"\n",
    "no_dir = train_dir + \"/no\"\n",
    "augmented_data_path = \"C:/Users/aymin/Desktop/avm_project/data/aug_data_224/\"\n",
    "\n",
    "# Ensure the directories exist\n",
    "os.makedirs(yes_dir, exist_ok=True)\n",
    "os.makedirs(no_dir, exist_ok=True)\n",
    "os.makedirs(augmented_data_path + \"yes\", exist_ok=True)\n",
    "os.makedirs(augmented_data_path + \"no\", exist_ok=True)\n",
    "\n",
    "augment_data(yes_dir, 5, save_to_dir=augmented_data_path + \"yes\")\n",
    "augment_data(no_dir, 5, save_to_dir=augmented_data_path + \"no\")"
   ]
  },
  {
   "cell_type": "code",
   "execution_count": 6,
   "metadata": {},
   "outputs": [
    {
     "name": "stdout",
     "output_type": "stream",
     "text": [
      "Found 4678 images belonging to 2 classes.\n",
      "Found 1338 images belonging to 2 classes.\n",
      "Found 668 images belonging to 2 classes.\n"
     ]
    }
   ],
   "source": [
    "# Data generators\n",
    "#train_datagen = keras.preprocessing.image.ImageDataGenerator(rescale=1./255)\n",
    "\n",
    "train_datagen = keras.preprocessing.image.ImageDataGenerator(\n",
    "        rescale=1./255,  # normalize pixel values to [0,1]\n",
    "        rotation_range=15, \n",
    "        shear_range=0.1,\n",
    "        brightness_range=[1.0,1.5],\n",
    "        horizontal_flip=True,\n",
    "        vertical_flip=True\n",
    "    )\n",
    "\n",
    "val_test_datagen = keras.preprocessing.image.ImageDataGenerator(rescale=1./255)\n",
    "\n",
    "# Training data generator\n",
    "train_generator = train_datagen.flow_from_directory(\n",
    "    'C:/Users/aymin/Desktop/avm_project/data/train/',\n",
    "    target_size=(224, 224),\n",
    "    batch_size=32,\n",
    "    class_mode='binary'\n",
    ")\n",
    "\n",
    "# Validation data generator\n",
    "validation_generator = val_test_datagen.flow_from_directory(\n",
    "    'C:/Users/aymin/Desktop/avm_project/data/val/',\n",
    "    target_size=(224, 224),\n",
    "    batch_size=32,\n",
    "    class_mode='binary'\n",
    ")\n",
    "\n",
    "# Test data generator\n",
    "test_generator = val_test_datagen.flow_from_directory(\n",
    "    'C:/Users/aymin/Desktop/avm_project/data/test/',\n",
    "    target_size=(224, 224),\n",
    "    batch_size=32,\n",
    "    class_mode='binary'\n",
    ")"
   ]
  },
  {
   "cell_type": "code",
   "execution_count": null,
   "metadata": {},
   "outputs": [],
   "source": []
  }
 ],
 "metadata": {
  "kernelspec": {
   "display_name": "Python 3",
   "language": "python",
   "name": "python3"
  },
  "language_info": {
   "codemirror_mode": {
    "name": "ipython",
    "version": 3
   },
   "file_extension": ".py",
   "mimetype": "text/x-python",
   "name": "python",
   "nbconvert_exporter": "python",
   "pygments_lexer": "ipython3",
   "version": "3.12.4"
  }
 },
 "nbformat": 4,
 "nbformat_minor": 2
}
